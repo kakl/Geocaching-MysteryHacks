{
 "cells": [
  {
   "cell_type": "markdown",
   "metadata": {},
   "source": [
    "# barevne pasky na ferrate"
   ]
  },
  {
   "cell_type": "code",
   "execution_count": null,
   "metadata": {
    "collapsed": true
   },
   "outputs": [],
   "source": [
    "'''\n",
    "cervená = 1\n",
    "bílá = 2\n",
    "žlutá = 4\n",
    "\n",
    "\n",
    "Z = ABC,DEF\n",
    "2*X = Z – 22,346\n",
    "2*Y = Z – 32,164\n",
    "\n",
    "N 50° X E 14° Y\n",
    "\n",
    "\n",
    "\n",
    "N 50° 50.066 E 014° 45.086 \n",
    "\n",
    "'''"
   ]
  },
  {
   "cell_type": "code",
   "execution_count": 88,
   "metadata": {
    "collapsed": true
   },
   "outputs": [],
   "source": [
    "%matplotlib inline\n",
    "\n",
    "import matplotlib\n",
    "import numpy as np\n",
    "import matplotlib.pyplot as plt\n",
    "\n",
    "import itertools\n"
   ]
  },
  {
   "cell_type": "code",
   "execution_count": 97,
   "metadata": {
    "collapsed": false
   },
   "outputs": [],
   "source": [
    "p = list(itertools.product('124', repeat=6))\n"
   ]
  },
  {
   "cell_type": "code",
   "execution_count": 98,
   "metadata": {
    "collapsed": false
   },
   "outputs": [],
   "source": [
    "for i in range(len(p)):\n",
    "    p[i] = map(int,p[i])"
   ]
  },
  {
   "cell_type": "code",
   "execution_count": 128,
   "metadata": {
    "collapsed": false
   },
   "outputs": [
    {
     "name": "stdout",
     "output_type": "stream",
     "text": [
      "N 50° 50.066 E 014° 45.086\n",
      "N 50° 50.034 E 014° 45.125\n",
      "N 50° 50.0475 E 014° 45.1385\n",
      "N 50° 50.889 E 014° 45.98\n",
      "N 50° 50.898 E 014° 45.989\n"
     ]
    },
    {
     "data": {
      "image/png": "[encoded data removed]",
      "text/plain": [
       "<matplotlib.figure.Figure at 0x7f7c2e1000d0>"
      ]
     },
     "metadata": {},
     "output_type": "display_data"
    }
   ],
   "source": [
    "print 'N 50° 50.066 E 014° 45.086'\n",
    "d = {1:'r', 2:'w', 4:'y'}\n",
    "\n",
    "iii = 0\n",
    "\n",
    "for i in range(len(p)):\n",
    "    if sum(p[i]) == 14:\n",
    "        Z =  p[i][0]*100 + p[i][1]*10 + p[i][2] + float(p[i][3])/10 + float(p[i][4])/100 + float(p[i][5])/1000\n",
    "        if Z > 32.164:\n",
    "            X = (Z - 22.346)/2\n",
    "            Y = (Z - 32.164)/2\n",
    "\n",
    "            if (Y>=45)&(Y<46): \n",
    "                print 'N 50°', X, 'E 014°', Y\n",
    "                s = 'N 50 '+str(X)+' E 014 '+str(Y)\n",
    "                iii = iii + 1\n",
    "                for ii in range(6):    \n",
    "                    plt.plot([ii, ii], [iii, iii+.5], 'k-', c=d[p[i][ii]],lw=10)\n",
    "                    plt.plot([ii+.1, ii+.1], [iii, iii+.5], 'k-', c='b',lw=2)\n",
    "                plt.text(6, iii,s)"
   ]
  },
  {
   "cell_type": "code",
   "execution_count": null,
   "metadata": {
    "collapsed": true
   },
   "outputs": [],
   "source": []
  }
 ],
 "metadata": {
  "kernelspec": {
   "display_name": "Python 2",
   "language": "python",
   "name": "python2"
  },
  "language_info": {
   "codemirror_mode": {
    "name": "ipython",
    "version": 2
   },
   "file_extension": ".py",
   "mimetype": "text/x-python",
   "name": "python",
   "nbconvert_exporter": "python",
   "pygments_lexer": "ipython2",
   "version": "2.7.13"
  }
 },
 "nbformat": 4,
 "nbformat_minor": 2
}
